{
 "cells": [
  {
   "cell_type": "markdown",
   "metadata": {},
   "source": [
    "# Module 12 Challenge\n",
    "## Deliverable 1: Scrape Titles and Preview Text from Mars News"
   ]
  },
  {
   "cell_type": "code",
   "execution_count": 1,
   "metadata": {},
   "outputs": [],
   "source": [
    "chrome_driver = 'C:/Users/FiercePC/Documents/chromedriver_win32/chromedriver.exe'"
   ]
  },
  {
   "cell_type": "code",
   "execution_count": null,
   "metadata": {},
   "outputs": [],
   "source": []
  },
  {
   "cell_type": "code",
   "execution_count": 2,
   "metadata": {},
   "outputs": [],
   "source": [
    "# Import Splinter and BeautifulSoup\n",
    "from bs4 import BeautifulSoup as bs\n",
    "import pandas as pd\n",
    "from webdriver_manager.chrome import ChromeDriverManager\n",
    "from splinter import Browser"
   ]
  },
  {
   "cell_type": "code",
   "execution_count": 3,
   "metadata": {},
   "outputs": [],
   "source": [
    "chrome_driver = 'C:/Users/FiercePC/Documents/chromedriver_win32/chromedriver.exe'"
   ]
  },
  {
   "cell_type": "code",
   "execution_count": 4,
   "metadata": {
    "scrolled": true
   },
   "outputs": [],
   "source": [
    "executable_path = {'executable_path': ChromeDriverManager().install()}\n",
    "browser = Browser('chrome', **executable_path, headless=False)"
   ]
  },
  {
   "cell_type": "markdown",
   "metadata": {},
   "source": [
    "### Step 1: Visit the Website\n",
    "\n",
    "1. Use automated browsing to visit the [Mars NASA news site](https://redplanetscience.com). Inspect the page to identify which elements to scrape.\n",
    "\n",
    "      > **Hint** To identify which elements to scrape, you might want to inspect the page by using Chrome DevTools."
   ]
  },
  {
   "cell_type": "code",
   "execution_count": 5,
   "metadata": {},
   "outputs": [],
   "source": [
    "# Visit the Mars NASA news site: https://redplanetscience.com\n",
    "url = 'https://redplanetscience.com/'\n",
    "browser.visit(url)"
   ]
  },
  {
   "cell_type": "markdown",
   "metadata": {},
   "source": [
    "### Step 2: Scrape the Website\n",
    "\n",
    "Create a Beautiful Soup object and use it to extract text elements from the website."
   ]
  },
  {
   "cell_type": "code",
   "execution_count": 6,
   "metadata": {},
   "outputs": [],
   "source": [
    "# Create a Beautiful Soup object\n",
    "html = browser.html\n",
    "soup = bs(html, 'html.parser')"
   ]
  },
  {
   "cell_type": "code",
   "execution_count": 7,
   "metadata": {},
   "outputs": [],
   "source": [
    "# Extract all the text elements\n",
    "\n",
    "results = soup.find_all('div', class_='list_text')"
   ]
  },
  {
   "cell_type": "code",
   "execution_count": null,
   "metadata": {},
   "outputs": [],
   "source": []
  },
  {
   "cell_type": "markdown",
   "metadata": {},
   "source": [
    "### Step 3: Store the Results\n",
    "\n",
    "Extract the titles and preview text of the news articles that you scraped. Store the scraping results in Python data structures as follows:\n",
    "\n",
    "* Store each title-and-preview pair in a Python dictionary. And, give each dictionary two keys: `title` and `preview`. An example is the following:\n",
    "\n",
    "  ```python\n",
    "  {'title': \"Mars Rover Begins Mission!\", \n",
    "        'preview': \"NASA's Mars Rover begins a multiyear mission to collect data about the little-explored planet.\"}\n",
    "  ```\n",
    "\n",
    "* Store all the dictionaries in a Python list.\n",
    "\n",
    "* Print the list in your notebook."
   ]
  },
  {
   "cell_type": "code",
   "execution_count": 8,
   "metadata": {},
   "outputs": [
    {
     "name": "stdout",
     "output_type": "stream",
     "text": [
      "-------------\n",
      "headline: NASA's Curiosity Rover Finds an Ancient Oasis on Mars\n",
      "preview: New evidence suggests salty, shallow ponds once dotted a Martian crater — a sign of the planet's drying climate.\n",
      "-------------\n",
      "-------------\n",
      "headline: NASA's Curiosity Takes Selfie With 'Mary Anning' on the Red Planet\n",
      "preview: The Mars rover has drilled three samples of rock in this clay-enriched region since arriving in July.\n",
      "-------------\n",
      "-------------\n",
      "headline: NASA's Mars Perseverance Rover Gets Its Sample Handling System\n",
      "preview: The system will be collecting and storing Martian rock and soil. Its installation marks another milestone in the march toward the July launch period.\n",
      "-------------\n",
      "-------------\n",
      "headline: Join NASA for the Launch of the Mars 2020 Perseverance Rover\n",
      "preview: No matter where you live, choose from a menu of activities to join NASA as we \"Countdown to Mars\" and launch the Perseverance rover to the Red Planet.\n",
      "-------------\n",
      "-------------\n",
      "headline: AI Is Helping Scientists Discover Fresh Craters on Mars\n",
      "preview: It's the first time machine learning has been used to find previously unknown craters on the Red Planet.\n",
      "-------------\n",
      "-------------\n",
      "headline: Robotic Toolkit Added to NASA's Mars 2020 Rover\n",
      "preview: The bit carousel, which lies at the heart of the rover's Sample Caching System, is now aboard NASA's newest rover. \n",
      "-------------\n",
      "-------------\n",
      "headline: NASA's Curiosity Mars Rover Takes a New Selfie Before Record Climb\n",
      "preview: Along with capturing an image before its steepest ascent ever, the robotic explorer filmed its \"selfie stick,\" or robotic arm, in action.\n",
      "-------------\n",
      "-------------\n",
      "headline: The MarCO Mission Comes to an End\n",
      "preview: The pair of briefcase-sized satellites made history when they sailed past Mars in 2019.\n",
      "-------------\n",
      "-------------\n",
      "headline: NASA, ULA Launch Mars 2020 Perseverance Rover Mission to Red Planet\n",
      "preview: The agency's Mars 2020 mission is on its way. It will land at Jezero Crater in about seven months, on Feb. 18, 2021. \n",
      "-------------\n",
      "-------------\n",
      "headline: NASA's Perseverance Rover 100 Days Out\n",
      "preview: Mark your calendars: The agency's latest rover has only about 8,640,000 seconds to go before it touches down on the Red Planet, becoming history's next Mars car.\n",
      "-------------\n",
      "-------------\n",
      "headline: Deadline Closing for Names to Fly on NASA's Next Mars Rover\n",
      "preview: You have until Sept. 30 to send your names to Mars aboard the Mars 2020 rover. \n",
      "-------------\n",
      "-------------\n",
      "headline: NASA's Mars 2020 Rover Completes Its First Drive\n",
      "preview: In a 10-plus-hour marathon, the rover steered, turned and drove in 3-foot (1-meter) increments over small ramps.\n",
      "-------------\n",
      "-------------\n",
      "headline: Global Storms on Mars Launch Dust Towers Into the Sky\n",
      "preview: A Mars Dust Tower Stands Out Dust storms are common on Mars. But every decade or so, something unpredictable happens: a series of runaway storms break out, covering the entire planet in a dusty haze.\n",
      "-------------\n",
      "-------------\n",
      "headline: Screening Soon: 'The Pathfinders' Trains Lens on Mars\n",
      "preview: With the Mars 2020 mission ramping up, the documentary — the first of four about past JPL missions to the Red Planet to be shown at Caltech — tells a gripping backstory.\n",
      "-------------\n",
      "-------------\n",
      "headline: Mars 2020 Unwrapped and Ready for More Testing\n",
      "preview: In time-lapse video, bunny-suited engineers remove the inner layer of protective foil on NASA's Mars 2020 rover after it was relocated for testing.\n",
      "-------------\n"
     ]
    }
   ],
   "source": [
    "headlinelist = []\n",
    "previewlist = []\n",
    "\n",
    "# looping through returned lists\n",
    "for result in results:\n",
    "\n",
    "    # getting titles\n",
    "    headlines = result.find('div', class_='content_title').text\n",
    "    # getting preview texts\n",
    "    previewtexts = result.find('div', class_='article_teaser_body').text\n",
    "\n",
    "    headlinelist.append(headlines)\n",
    "    previewlist.append(previewtexts)\n",
    "    \n",
    "# Print the list to confirm success\n",
    "\n",
    "    print('-------------')\n",
    "    print('headline: ' + str(headlines))\n",
    "    print('preview: ' + str(previewtexts))\n",
    "    print('-------------')"
   ]
  },
  {
   "cell_type": "code",
   "execution_count": 11,
   "metadata": {},
   "outputs": [],
   "source": [
    "browser.quit()"
   ]
  }
 ],
 "metadata": {
  "kernelspec": {
   "display_name": "Python 3 (ipykernel)",
   "language": "python",
   "name": "python3"
  },
  "language_info": {
   "codemirror_mode": {
    "name": "ipython",
    "version": 3
   },
   "file_extension": ".py",
   "mimetype": "text/x-python",
   "name": "python",
   "nbconvert_exporter": "python",
   "pygments_lexer": "ipython3",
   "version": "3.9.12"
  }
 },
 "nbformat": 4,
 "nbformat_minor": 4
}
